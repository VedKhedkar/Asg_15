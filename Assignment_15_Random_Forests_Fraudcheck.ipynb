{
  "nbformat": 4,
  "nbformat_minor": 0,
  "metadata": {
    "colab": {
      "provenance": []
    },
    "kernelspec": {
      "name": "python3",
      "display_name": "Python 3"
    },
    "language_info": {
      "name": "python"
    }
  },
  "cells": [
    {
      "cell_type": "code",
      "execution_count": 47,
      "metadata": {
        "id": "Ol3b0L3d0P9k"
      },
      "outputs": [],
      "source": [
        "import pandas as pd\n",
        "import numpy as np\n",
        "import matplotlib.pyplot"
      ]
    },
    {
      "cell_type": "code",
      "source": [
        "fraud = pd.read_csv('Fraud_check.csv')"
      ],
      "metadata": {
        "id": "PdZFIHgj1UDe"
      },
      "execution_count": 48,
      "outputs": []
    },
    {
      "cell_type": "code",
      "source": [
        "##Converting the Taxable income variable to bucketing. \n",
        "fraud[\"income\"]=\"<=30000\"\n",
        "fraud.loc[fraud[\"Taxable.Income\"]>=30000,\"income\"]=\"Good\"\n",
        "fraud.loc[fraud[\"Taxable.Income\"]<=30000,\"income\"]=\"Risky\""
      ],
      "metadata": {
        "id": "0w0zrEOT1eT2"
      },
      "execution_count": 49,
      "outputs": []
    },
    {
      "cell_type": "code",
      "source": [
        "##Droping the Taxable income variable\n",
        "fraud.drop([\"Taxable.Income\"],axis=1,inplace=True)"
      ],
      "metadata": {
        "id": "M7Ezt_871hcu"
      },
      "execution_count": 50,
      "outputs": []
    },
    {
      "cell_type": "code",
      "source": [
        "fraud.rename(columns={\"Undergrad\":\"undergrad\",\"Marital.Status\":\"marital\",\"City.Population\":\"population\",\"Work.Experience\":\"experience\",\"Urban\":\"urban\"},inplace=True)\n",
        "## As we are getting error as \"ValueError: could not convert string to float: 'YES'\".\n",
        "## Model.fit doesnt not consider String. So, we encode"
      ],
      "metadata": {
        "id": "jaGVNbJF1jgb"
      },
      "execution_count": 51,
      "outputs": []
    },
    {
      "cell_type": "code",
      "source": [
        "from sklearn import preprocessing\n",
        "le=preprocessing.LabelEncoder()\n",
        "for column_name in fraud.columns:\n",
        "    if fraud[column_name].dtype == object:\n",
        "        fraud[column_name] = le.fit_transform(fraud[column_name])\n",
        "    else:\n",
        "        pass"
      ],
      "metadata": {
        "id": "PnvooL2W1ksU"
      },
      "execution_count": 52,
      "outputs": []
    },
    {
      "cell_type": "code",
      "source": [
        "##Splitting the data into featuers and labels\n",
        "features = fraud.iloc[:,0:5]\n",
        "labels = fraud.iloc[:,5]"
      ],
      "metadata": {
        "id": "Jw1golV21mPO"
      },
      "execution_count": 53,
      "outputs": []
    },
    {
      "cell_type": "code",
      "source": [
        "## Collecting the column names\n",
        "colnames = list(fraud.columns)\n",
        "predictors = colnames[0:5]\n",
        "target = colnames[5]\n",
        "##Splitting the data into train and test"
      ],
      "metadata": {
        "id": "gQbKSVf01oOC"
      },
      "execution_count": 54,
      "outputs": []
    },
    {
      "cell_type": "code",
      "source": [
        "from sklearn.model_selection import train_test_split\n",
        "x_train,x_test,y_train,y_test = train_test_split(features,labels,test_size = 0.2,stratify = labels)\n"
      ],
      "metadata": {
        "id": "jqoyDz3q1qYF"
      },
      "execution_count": 55,
      "outputs": []
    },
    {
      "cell_type": "code",
      "source": [
        "##Model building\n",
        "from sklearn.ensemble import RandomForestClassifier as RF\n",
        "model = RF(n_jobs = 3,n_estimators = 15, oob_score = True, criterion = \"entropy\")\n",
        "model.fit(x_train,y_train)"
      ],
      "metadata": {
        "colab": {
          "base_uri": "https://localhost:8080/"
        },
        "id": "XkkJc8Cd1s-Q",
        "outputId": "0cc7a2c5-fef8-42b8-9e72-dccfca1b56cb"
      },
      "execution_count": 56,
      "outputs": [
        {
          "output_type": "execute_result",
          "data": {
            "text/plain": [
              "RandomForestClassifier(criterion='entropy', n_estimators=15, n_jobs=3,\n",
              "                       oob_score=True)"
            ]
          },
          "metadata": {},
          "execution_count": 56
        }
      ]
    },
    {
      "cell_type": "code",
      "source": [
        "model.estimators_\n",
        "model.classes_\n",
        "model.n_features_\n",
        "model.n_classes_"
      ],
      "metadata": {
        "colab": {
          "base_uri": "https://localhost:8080/"
        },
        "id": "YcGZpvOi1uS9",
        "outputId": "cc56d087-dec0-4da7-f76b-516e463d35aa"
      },
      "execution_count": 57,
      "outputs": [
        {
          "output_type": "stream",
          "name": "stderr",
          "text": [
            "/usr/local/lib/python3.8/dist-packages/sklearn/utils/deprecation.py:103: FutureWarning: Attribute `n_features_` was deprecated in version 1.0 and will be removed in 1.2. Use `n_features_in_` instead.\n",
            "  warnings.warn(msg, category=FutureWarning)\n"
          ]
        },
        {
          "output_type": "execute_result",
          "data": {
            "text/plain": [
              "2"
            ]
          },
          "metadata": {},
          "execution_count": 57
        }
      ]
    },
    {
      "cell_type": "code",
      "source": [
        "model.n_outputs_"
      ],
      "metadata": {
        "colab": {
          "base_uri": "https://localhost:8080/"
        },
        "id": "fhpptXWO1wxj",
        "outputId": "ada883e7-577f-4c31-be9c-54b2161522bf"
      },
      "execution_count": 58,
      "outputs": [
        {
          "output_type": "execute_result",
          "data": {
            "text/plain": [
              "1"
            ]
          },
          "metadata": {},
          "execution_count": 58
        }
      ]
    },
    {
      "cell_type": "code",
      "source": [
        "model.oob_score_"
      ],
      "metadata": {
        "colab": {
          "base_uri": "https://localhost:8080/"
        },
        "id": "Dfotdhz91yiS",
        "outputId": "f0343817-eaf4-4e3d-9739-6908bf1c8d1a"
      },
      "execution_count": 59,
      "outputs": [
        {
          "output_type": "execute_result",
          "data": {
            "text/plain": [
              "0.7125"
            ]
          },
          "metadata": {},
          "execution_count": 59
        }
      ]
    },
    {
      "cell_type": "code",
      "source": [
        "##Predictions on train data\n",
        "prediction = model.predict(x_train)"
      ],
      "metadata": {
        "id": "9tgrRwgq2SXf"
      },
      "execution_count": 60,
      "outputs": []
    },
    {
      "cell_type": "code",
      "source": [
        "# For accuracy \n",
        "from sklearn.metrics import accuracy_score\n",
        "accuracy = accuracy_score(y_train,prediction)"
      ],
      "metadata": {
        "id": "cim1MWql2Wk_"
      },
      "execution_count": 61,
      "outputs": []
    },
    {
      "cell_type": "code",
      "source": [
        "np.mean(prediction == y_train)"
      ],
      "metadata": {
        "colab": {
          "base_uri": "https://localhost:8080/"
        },
        "id": "cVS81O722ZKV",
        "outputId": "f3835887-b5c2-4161-bd5b-75d929f91e56"
      },
      "execution_count": 62,
      "outputs": [
        {
          "output_type": "execute_result",
          "data": {
            "text/plain": [
              "0.9833333333333333"
            ]
          },
          "metadata": {},
          "execution_count": 62
        }
      ]
    },
    {
      "cell_type": "code",
      "source": [
        "##Confusion matrix\n",
        "from sklearn.metrics import confusion_matrix\n",
        "confusion = confusion_matrix(y_train,prediction)"
      ],
      "metadata": {
        "id": "yjmpKSxa2bov"
      },
      "execution_count": 63,
      "outputs": []
    },
    {
      "cell_type": "code",
      "source": [
        "##Prediction on test data\n",
        "pred_test = model.predict(x_test)"
      ],
      "metadata": {
        "id": "D8pwP_m_2ebS"
      },
      "execution_count": 64,
      "outputs": []
    },
    {
      "cell_type": "code",
      "source": [
        "##Accuracy\n",
        "acc_test =accuracy_score(y_test,pred_test)\n",
        "acc_test"
      ],
      "metadata": {
        "colab": {
          "base_uri": "https://localhost:8080/"
        },
        "id": "2XQROBKb2fyj",
        "outputId": "30e6d176-9e95-498d-9806-b60cbfeeea91"
      },
      "execution_count": 65,
      "outputs": [
        {
          "output_type": "execute_result",
          "data": {
            "text/plain": [
              "0.725"
            ]
          },
          "metadata": {},
          "execution_count": 65
        }
      ]
    },
    {
      "cell_type": "code",
      "source": [
        "## In random forest we can plot a Decision tree present in Random forest\n",
        "from sklearn.tree import export_graphviz\n",
        "import pydotplus\n",
        "import six\n",
        "from six import StringIO\n",
        "import sys\n",
        "sys.modules['sklearn.externals.six'] = six\n",
        "from sklearn.externals.six import StringIO"
      ],
      "metadata": {
        "id": "FjcAGzmi2hkf"
      },
      "execution_count": 66,
      "outputs": []
    },
    {
      "cell_type": "code",
      "source": [
        "tree = model.estimators_[5]"
      ],
      "metadata": {
        "id": "hgIcWrHw2q5C"
      },
      "execution_count": 67,
      "outputs": []
    },
    {
      "cell_type": "code",
      "source": [
        "dot_data = StringIO()\n",
        "export_graphviz(tree,out_file = dot_data, filled = True,rounded = True, feature_names = predictors ,class_names = target,impurity =False)\n"
      ],
      "metadata": {
        "id": "IXsN7OkG3T3S"
      },
      "execution_count": 68,
      "outputs": []
    },
    {
      "cell_type": "code",
      "source": [
        "graph = pydotplus.graph_from_dot_data(dot_data.getvalue())"
      ],
      "metadata": {
        "id": "8359fiQt3WRs"
      },
      "execution_count": 69,
      "outputs": []
    },
    {
      "cell_type": "code",
      "source": [
        "## Creating pdf and png file the selected decision tree\n",
        "graph.write_pdf('fraudrf.pdf')\n",
        "graph.write_png('fraudrf.png')"
      ],
      "metadata": {
        "colab": {
          "base_uri": "https://localhost:8080/"
        },
        "id": "nDNk0cjz3YV9",
        "outputId": "c624a876-f954-4282-a69f-6c7806f6d685"
      },
      "execution_count": 46,
      "outputs": [
        {
          "output_type": "execute_result",
          "data": {
            "text/plain": [
              "True"
            ]
          },
          "metadata": {},
          "execution_count": 46
        }
      ]
    },
    {
      "cell_type": "code",
      "source": [],
      "metadata": {
        "id": "BtuRBsKM3ax9"
      },
      "execution_count": 46,
      "outputs": []
    }
  ]
}